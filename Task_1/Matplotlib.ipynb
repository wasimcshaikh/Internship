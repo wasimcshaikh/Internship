{
  "nbformat": 4,
  "nbformat_minor": 0,
  "metadata": {
    "colab": {
      "provenance": [],
      "include_colab_link": true
    },
    "kernelspec": {
      "name": "python3",
      "display_name": "Python 3"
    },
    "language_info": {
      "name": "python"
    }
  },
  "cells": [
    {
      "cell_type": "markdown",
      "metadata": {
        "id": "view-in-github",
        "colab_type": "text"
      },
      "source": [
        "<a href=\"https://colab.research.google.com/github/wasimcshaikh/Internship/blob/main/Task_1/Matplotlib.ipynb\" target=\"_parent\"><img src=\"https://colab.research.google.com/assets/colab-badge.svg\" alt=\"Open In Colab\"/></a>"
      ]
    },
    {
      "cell_type": "code",
      "execution_count": 1,
      "metadata": {
        "id": "bf-n0VlP_yFU",
        "colab": {
          "base_uri": "https://localhost:8080/",
          "height": 265
        },
        "outputId": "26a3f9d8-5cef-48d3-a6f5-5b4faed52a59"
      },
      "outputs": [
        {
          "output_type": "display_data",
          "data": {
            "text/plain": [
              "<Figure size 432x288 with 1 Axes>"
            ],
            "image/png": "[encoded data removed]"
          },
          "metadata": {
            "needs_background": "light"
          }
        }
      ],
      "source": [
        "#program to create a plot with matplotlib in python\n",
        "import matplotlib.pyplot as plt\n",
        "data=[2,4,6,8,10,12]\n",
        "plt.plot(data,)\n",
        "plt.show()\n"
      ]
    },
    {
      "cell_type": "code",
      "source": [
        "#program to plot using style\n",
        "import matplotlib.pyplot as plot\n",
        "x=[1,2,7,4,6,2,9]\n",
        "y=[5,4,7,8,10,4,2]\n",
        "plt.plot(x,y,'r*')\n"
      ],
      "metadata": {
        "id": "pzD-a9_tCQWD",
        "colab": {
          "base_uri": "https://localhost:8080/",
          "height": 282
        },
        "outputId": "de98c58a-7f5f-4007-a7e2-d919acf227d6"
      },
      "execution_count": 2,
      "outputs": [
        {
          "output_type": "execute_result",
          "data": {
            "text/plain": [
              "[<matplotlib.lines.Line2D at 0x7f1db408b850>]"
            ]
          },
          "metadata": {},
          "execution_count": 2
        },
        {
          "output_type": "display_data",
          "data": {
            "text/plain": [
              "<Figure size 432x288 with 1 Axes>"
            ],
            "image/png": "[encoded data removed]"
          },
          "metadata": {
            "needs_background": "light"
          }
        }
      ]
    },
    {
      "cell_type": "code",
      "source": [
        "#program to display the barchart for popular languages\n",
        "import matplotlib.pyplot as plt\n",
        "x=['java','python','c++','c#','php']\n",
        "y=[70,90,50,40,20]\n",
        "plt.title(\"barchart for language popularity\")\n",
        "plt.bar(x,y)\n",
        "\n"
      ],
      "metadata": {
        "id": "k0TD6JJzG6T4",
        "colab": {
          "base_uri": "https://localhost:8080/",
          "height": 298
        },
        "outputId": "94ede918-8047-4413-e8e8-b16bafb1cba1"
      },
      "execution_count": 3,
      "outputs": [
        {
          "output_type": "execute_result",
          "data": {
            "text/plain": [
              "<BarContainer object of 5 artists>"
            ]
          },
          "metadata": {},
          "execution_count": 3
        },
        {
          "output_type": "display_data",
          "data": {
            "text/plain": [
              "<Figure size 432x288 with 1 Axes>"
            ],
            "image/png": "[encoded data removed]"
          },
          "metadata": {
            "needs_background": "light"
          }
        }
      ]
    },
    {
      "cell_type": "code",
      "source": [
        "#program to display barchart horizontal using matplotlib library\n",
        "import matplotlib.pyplot as plt\n",
        "x=['java','python','c++','c#','php']\n",
        "y=[70,90,50,40,20]\n",
        "plt.title(\"barchart for language popularity\")\n",
        "plt.barh(x,y)"
      ],
      "metadata": {
        "id": "cUc0KIV1K_vV",
        "colab": {
          "base_uri": "https://localhost:8080/",
          "height": 298
        },
        "outputId": "58a82e1d-4854-4ff9-8360-e950e9380d12"
      },
      "execution_count": 4,
      "outputs": [
        {
          "output_type": "execute_result",
          "data": {
            "text/plain": [
              "<BarContainer object of 5 artists>"
            ]
          },
          "metadata": {},
          "execution_count": 4
        },
        {
          "output_type": "display_data",
          "data": {
            "text/plain": [
              "<Figure size 432x288 with 1 Axes>"
            ],
            "image/png": "[encoded data removed]"
          },
          "metadata": {
            "needs_background": "light"
          }
        }
      ]
    },
    {
      "cell_type": "code",
      "source": [
        "import matplotlib.pyplot as plt\n",
        "data=[10,30,20,55,35]\n",
        "values=['java','python','php','c#','c++']\n",
        "plt.pie(data,labels=values)"
      ],
      "metadata": {
        "id": "A9nJmNi6Loh-",
        "colab": {
          "base_uri": "https://localhost:8080/",
          "height": 422
        },
        "outputId": "7a1eef30-fe5f-4468-f166-4099a33db2ac"
      },
      "execution_count": 5,
      "outputs": [
        {
          "output_type": "execute_result",
          "data": {
            "text/plain": [
              "([<matplotlib.patches.Wedge at 0x7f1da4d2c370>,\n",
              "  <matplotlib.patches.Wedge at 0x7f1da4d2c820>,\n",
              "  <matplotlib.patches.Wedge at 0x7f1da4d2cca0>,\n",
              "  <matplotlib.patches.Wedge at 0x7f1da4cb9160>,\n",
              "  <matplotlib.patches.Wedge at 0x7f1da4cb95e0>],\n",
              " [Text(1.075962358309037, 0.22870287165240302, 'java'),\n",
              "  Text(0.5499999702695115, 0.9526279613277875, 'python'),\n",
              "  Text(-0.5500000594609755, 0.9526279098330699, 'php'),\n",
              "  Text(-0.952627884085708, -0.5500001040567056, 'c#'),\n",
              "  Text(0.8174594090980853, -0.7360435547418437, 'c++')])"
            ]
          },
          "metadata": {},
          "execution_count": 5
        },
        {
          "output_type": "display_data",
          "data": {
            "text/plain": [
              "<Figure size 432x288 with 1 Axes>"
            ],
            "image/png": "[encoded data removed]"
          },
          "metadata": {}
        }
      ]
    },
    {
      "cell_type": "code",
      "source": [
        "import matplotlib.pyplot as plt\n",
        "x=(1,2,8,5,7)\n",
        "y=(2,5,6,7,4)\n",
        "plt.scatter(x,y)"
      ],
      "metadata": {
        "id": "lPYXP4l2TEwo",
        "colab": {
          "base_uri": "https://localhost:8080/",
          "height": 282
        },
        "outputId": "1648a91b-5994-4db9-bcd9-af9fced0991c"
      },
      "execution_count": 6,
      "outputs": [
        {
          "output_type": "execute_result",
          "data": {
            "text/plain": [
              "<matplotlib.collections.PathCollection at 0x7f1da4c7e190>"
            ]
          },
          "metadata": {},
          "execution_count": 6
        },
        {
          "output_type": "display_data",
          "data": {
            "text/plain": [
              "<Figure size 432x288 with 1 Axes>"
            ],
            "image/png": "[encoded data removed]"
          },
          "metadata": {
            "needs_background": "light"
          }
        }
      ]
    }
  ]
}