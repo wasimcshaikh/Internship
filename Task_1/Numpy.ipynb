{
  "nbformat": 4,
  "nbformat_minor": 0,
  "metadata": {
    "colab": {
      "provenance": [],
      "include_colab_link": true
    },
    "kernelspec": {
      "name": "python3",
      "display_name": "Python 3"
    },
    "language_info": {
      "name": "python"
    }
  },
  "cells": [
    {
      "cell_type": "markdown",
      "metadata": {
        "id": "view-in-github",
        "colab_type": "text"
      },
      "source": [
        "<a href=\"https://colab.research.google.com/github/wasimcshaikh/Internship/blob/main/Task_1/Numpy.ipynb\" target=\"_parent\"><img src=\"https://colab.research.google.com/assets/colab-badge.svg\" alt=\"Open In Colab\"/></a>"
      ]
    },
    {
      "cell_type": "code",
      "execution_count": 1,
      "metadata": {
        "id": "8dxZJCYzFjgk",
        "colab": {
          "base_uri": "https://localhost:8080/"
        },
        "outputId": "0de99395-3421-4996-823f-1adbde5cdba9"
      },
      "outputs": [
        {
          "output_type": "stream",
          "name": "stdout",
          "text": [
            "[[7 8 9]\n",
            " [5 6 7]]\n"
          ]
        }
      ],
      "source": [
        "#using numpy sample program no 1\n",
        "#program for print two dimensional array\n",
        "import numpy as np\n",
        "a= np.array([[7,8,9],[5,6,7]])\n",
        "print(a)"
      ]
    },
    {
      "cell_type": "code",
      "source": [
        "#using numpy sample program no 2\n",
        "#program for adding two dimensional array\n",
        "import numpy as np\n",
        "a=np.array([[1,2,3],\n",
        "            [4,5,6]])\n",
        "b=np.array([[5,8,7],\n",
        "            [9,3,5]])\n",
        "c=a+b\n",
        "print(c)"
      ],
      "metadata": {
        "colab": {
          "base_uri": "https://localhost:8080/"
        },
        "id": "VztGnFzqFntS",
        "outputId": "b4b6e73b-dec0-48d4-ae6c-623dbadb41da"
      },
      "execution_count": 2,
      "outputs": [
        {
          "output_type": "stream",
          "name": "stdout",
          "text": [
            "[[ 6 10 10]\n",
            " [13  8 11]]\n"
          ]
        }
      ]
    },
    {
      "cell_type": "code",
      "source": [
        "#using numpy smaple program no 3\n",
        "# program for arange numbers using numpy arange function \n",
        "import numpy as np\n",
        "a=np.arange(4)\n",
        "print(a)\n"
      ],
      "metadata": {
        "colab": {
          "base_uri": "https://localhost:8080/"
        },
        "id": "5z6h5LusITVJ",
        "outputId": "f8cf03ca-a45b-4abd-e98c-ba2d09ddf18c"
      },
      "execution_count": 3,
      "outputs": [
        {
          "output_type": "stream",
          "name": "stdout",
          "text": [
            "[0 1 2 3]\n"
          ]
        }
      ]
    },
    {
      "cell_type": "code",
      "source": [
        "#program for to create an array of the number 1 to 50\n",
        "import numpy as np\n",
        "arr=np.arange(1,51)\n",
        "print(arr)"
      ],
      "metadata": {
        "colab": {
          "base_uri": "https://localhost:8080/"
        },
        "id": "CSX39SaGOYiR",
        "outputId": "9b5bcb79-f44c-48c0-c145-4430a6572d8a"
      },
      "execution_count": 4,
      "outputs": [
        {
          "output_type": "stream",
          "name": "stdout",
          "text": [
            "[ 1  2  3  4  5  6  7  8  9 10 11 12 13 14 15 16 17 18 19 20 21 22 23 24\n",
            " 25 26 27 28 29 30 31 32 33 34 35 36 37 38 39 40 41 42 43 44 45 46 47 48\n",
            " 49 50]\n"
          ]
        }
      ]
    }
  ]
}