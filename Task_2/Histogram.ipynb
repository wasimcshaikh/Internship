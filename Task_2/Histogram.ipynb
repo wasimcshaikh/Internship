{
  "nbformat": 4,
  "nbformat_minor": 0,
  "metadata": {
    "colab": {
      "provenance": [],
      "include_colab_link": true
    },
    "kernelspec": {
      "name": "python3",
      "display_name": "Python 3"
    },
    "language_info": {
      "name": "python"
    }
  },
  "cells": [
    {
      "cell_type": "markdown",
      "metadata": {
        "id": "view-in-github",
        "colab_type": "text"
      },
      "source": [
        "<a href=\"https://colab.research.google.com/github/wasimcshaikh/Internship/blob/main/Task_2/Histogram.ipynb\" target=\"_parent\"><img src=\"https://colab.research.google.com/assets/colab-badge.svg\" alt=\"Open In Colab\"/></a>"
      ]
    },
    {
      "cell_type": "code",
      "execution_count": 3,
      "metadata": {
        "colab": {
          "base_uri": "https://localhost:8080/",
          "height": 317
        },
        "id": "fdt56SA_61hi",
        "outputId": "2afb3801-e066-4575-f42e-9d9bf23b1a28"
      },
      "outputs": [
        {
          "output_type": "execute_result",
          "data": {
            "text/plain": [
              "(array([222., 140., 109., 128., 102., 137., 144., 114., 128., 114.]),\n",
              " array([18. , 22.6, 27.2, 31.8, 36.4, 41. , 45.6, 50.2, 54.8, 59.4, 64. ]),\n",
              " <a list of 10 Patch objects>)"
            ]
          },
          "metadata": {},
          "execution_count": 3
        },
        {
          "output_type": "display_data",
          "data": {
            "text/plain": [
              "<Figure size 432x288 with 1 Axes>"
            ],
            "image/png": "[encoded data removed]"
          },
          "metadata": {
            "needs_background": "light"
          }
        }
      ],
      "source": [
        "#histogram graph using dataset insurance\n",
        "import pandas as pd\n",
        "import matplotlib.pyplot as plt\n",
        "a=pd.read_csv(\"/content/drive/MyDrive/Internship/Datasets/insurance.csv\")\n",
        "b=a['age']\n",
        "plt.hist(b,edgecolor=\"black\")"
      ]
    },
    {
      "cell_type": "code",
      "source": [
        "from google.colab import drive\n",
        "drive.mount('/content/drive')"
      ],
      "metadata": {
        "colab": {
          "base_uri": "https://localhost:8080/"
        },
        "id": "2R5BlU4vkU_Z",
        "outputId": "2abfa566-381b-41fb-f82a-6bc16e7f3fb5"
      },
      "execution_count": 2,
      "outputs": [
        {
          "output_type": "stream",
          "name": "stdout",
          "text": [
            "Mounted at /content/drive\n"
          ]
        }
      ]
    },
    {
      "cell_type": "code",
      "source": [
        "#histogram graph using dataset flight_delays\n",
        "\n",
        "import pandas as pd \n",
        "import matplotlib.pyplot as plt\n",
        "df=pd.read_csv(\"/content/drive/MyDrive/Internship/Datasets/flight_delays.csv\")\n",
        "#x=df['Month']\n",
        "y=df['AA']\n",
        "plt.hist(y,bins=13, edgecolor='black')\n"
      ],
      "metadata": {
        "colab": {
          "base_uri": "https://localhost:8080/",
          "height": 352
        },
        "id": "9iqwIAgi7Lib",
        "outputId": "b8f99af8-0160-48d6-ddd7-567ee0a6cfdf"
      },
      "execution_count": 4,
      "outputs": [
        {
          "output_type": "execute_result",
          "data": {
            "text/plain": [
              "(array([1., 1., 1., 0., 0., 0., 1., 2., 2., 0., 1., 1., 2.]),\n",
              " array([-1.43273241, -0.69244402,  0.04784437,  0.78813276,  1.52842114,\n",
              "         2.26870953,  3.00899792,  3.74928631,  4.4895747 ,  5.22986309,\n",
              "         5.97015148,  6.71043987,  7.45072826,  8.19101665]),\n",
              " <a list of 13 Patch objects>)"
            ]
          },
          "metadata": {},
          "execution_count": 4
        },
        {
          "output_type": "display_data",
          "data": {
            "text/plain": [
              "<Figure size 432x288 with 1 Axes>"
            ],
            "image/png": "[encoded data removed]"
          },
          "metadata": {
            "needs_background": "light"
          }
        }
      ]
    },
    {
      "cell_type": "code",
      "source": [
        "#histogram graph using dataset cancer_b\n",
        "\n",
        "import pandas as pd\n",
        "import matplotlib.pyplot as plt\n",
        "mkp=pd.read_csv(\"/content/drive/MyDrive/Internship/Datasets/cancer_b.csv\")\n",
        "mk=mkp['Id']\n",
        "plt.hist(mk,edgecolor='black')"
      ],
      "metadata": {
        "colab": {
          "base_uri": "https://localhost:8080/",
          "height": 365
        },
        "id": "Zm6EzgO7-t4a",
        "outputId": "3280dcd4-0102-40c9-e01e-fc7aaabc079f"
      },
      "execution_count": 5,
      "outputs": [
        {
          "output_type": "execute_result",
          "data": {
            "text/plain": [
              "(array([343.,   8.,   0.,   0.,   0.,   0.,   0.,   0.,   0.,   6.]),\n",
              " array([8.91300000e+03, 9.11400719e+07, 1.82271231e+08, 2.73402390e+08,\n",
              "        3.64533549e+08, 4.55664708e+08, 5.46795866e+08, 6.37927025e+08,\n",
              "        7.29058184e+08, 8.20189343e+08, 9.11320502e+08]),\n",
              " <a list of 10 Patch objects>)"
            ]
          },
          "metadata": {},
          "execution_count": 5
        },
        {
          "output_type": "display_data",
          "data": {
            "text/plain": [
              "<Figure size 432x288 with 1 Axes>"
            ],
            "image/png": "[encoded data removed]"
          },
          "metadata": {
            "needs_background": "light"
          }
        }
      ]
    }
  ]
}