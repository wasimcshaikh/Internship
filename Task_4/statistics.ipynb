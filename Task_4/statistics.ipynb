{
  "nbformat": 4,
  "nbformat_minor": 0,
  "metadata": {
    "colab": {
      "provenance": [],
      "include_colab_link": true
    },
    "kernelspec": {
      "name": "python3",
      "display_name": "Python 3"
    },
    "language_info": {
      "name": "python"
    }
  },
  "cells": [
    {
      "cell_type": "markdown",
      "metadata": {
        "id": "view-in-github",
        "colab_type": "text"
      },
      "source": [
        "<a href=\"https://colab.research.google.com/github/wasimcshaikh/Internship/blob/main/Task_4/statistics.ipynb\" target=\"_parent\"><img src=\"https://colab.research.google.com/assets/colab-badge.svg\" alt=\"Open In Colab\"/></a>"
      ]
    },
    {
      "cell_type": "code",
      "execution_count": null,
      "metadata": {
        "colab": {
          "base_uri": "https://localhost:8080/",
          "height": 1000
        },
        "id": "CVg1jkDoTllk",
        "outputId": "51a82dfb-5e22-4bb7-ef1c-a835e0827bff"
      },
      "outputs": [
        {
          "output_type": "execute_result",
          "data": {
            "text/plain": [
              "    Unnamed: 0  Stud_Roll_no.  Maths_Score  Reading_Score  Writing_Score  \\\n",
              "0            0              1         82.0          64.00           98.0   \n",
              "1            1              2         74.0          86.00           98.0   \n",
              "2            2              3         76.0          83.00           76.0   \n",
              "3            3              4         25.0          73.00           77.0   \n",
              "4            4              5         93.0          95.00           86.0   \n",
              "5            5              6         75.0          83.00           97.0   \n",
              "6            6              7         83.0          84.00           91.0   \n",
              "7            7              8         72.0          90.00           71.0   \n",
              "8            8              9         86.0          88.00           94.0   \n",
              "9            9             10         92.0          76.00           98.0   \n",
              "10          10             11         87.0          87.00           78.0   \n",
              "11          11             12         97.0          97.00           94.0   \n",
              "12          12             13         82.0          93.00           95.0   \n",
              "13          13             14         89.0          83.00           88.0   \n",
              "14          14             15         32.0          26.00           29.0   \n",
              "15          15             16         99.0          96.00           80.0   \n",
              "16          16             17         73.0          86.00           83.0   \n",
              "17          17             18         71.0          65.00           78.0   \n",
              "18          18             19         71.0          88.00           74.0   \n",
              "19          19             20         63.0          86.00           94.0   \n",
              "20          20             21         68.0          76.00           81.0   \n",
              "21          21             22         73.0          93.00           73.0   \n",
              "22          22             23         90.0          69.00           61.0   \n",
              "23          23             24         77.0          66.00           79.0   \n",
              "24          24             25         97.0          63.00           67.0   \n",
              "25          25             26         85.0          96.00           99.0   \n",
              "26          26             27         69.0          87.00           69.0   \n",
              "27          27             28         63.0          63.00           66.0   \n",
              "28          28             29         78.0          90.00           72.0   \n",
              "29          29             30         96.0          83.00           79.0   \n",
              "30          30             31         96.0          82.00           61.0   \n",
              "31          31             32         19.0          81.00           69.0   \n",
              "32          32             33         99.0          96.00           63.0   \n",
              "33          33             34         64.0          99.00           86.0   \n",
              "34          34             35         92.0          97.00           66.0   \n",
              "35          35             36         74.0          71.00           91.0   \n",
              "36          36             37         65.0          98.00           72.0   \n",
              "37          37             38         68.0          13.00           76.0   \n",
              "38          38             39         67.0          81.00           89.0   \n",
              "39          39             40         85.0          78.00           80.0   \n",
              "40          40             41         68.0          96.00           75.0   \n",
              "41          41             42         77.0          81.00           62.0   \n",
              "42          42             43         76.0          91.00           92.0   \n",
              "43          43             44         95.0          63.00           80.0   \n",
              "44          44             45         89.0          90.00           60.0   \n",
              "45          45             46         98.0          80.06           98.0   \n",
              "46          46             47         84.0          84.00           61.0   \n",
              "47          47             48         74.0          63.00           85.0   \n",
              "48          48             49         74.0          66.00           90.0   \n",
              "49          49             50         71.0          78.00           64.0   \n",
              "\n",
              "    Placement_Score  Placement offer count  \n",
              "0              81.0                      2  \n",
              "1              86.0                      2  \n",
              "2              78.0                      1  \n",
              "3              58.0                      0  \n",
              "4              91.0                      3  \n",
              "5              85.0                      2  \n",
              "6              86.0                      2  \n",
              "7              78.0                      1  \n",
              "8              89.0                      2  \n",
              "9              89.0                      2  \n",
              "10             87.0                      2  \n",
              "11             96.0                      3  \n",
              "12             90.0                      3  \n",
              "13             87.0                      2  \n",
              "14             29.0                      0  \n",
              "15             92.0                      3  \n",
              "16             81.0                      2  \n",
              "17             71.0                      1  \n",
              "18             78.0                      1  \n",
              "19             81.0                      2  \n",
              "20             75.0                      1  \n",
              "21             80.0                      2  \n",
              "22             73.0                      1  \n",
              "23             73.0                      1  \n",
              "24             76.0                      1  \n",
              "25             93.0                      3  \n",
              "26             75.0                      1  \n",
              "27             64.0                      1  \n",
              "28             80.0                      2  \n",
              "29             86.0                      2  \n",
              "30             80.0                      2  \n",
              "31             56.0                      0  \n",
              "32             86.0                      2  \n",
              "33             83.0                      2  \n",
              "34             85.0                      2  \n",
              "35             79.0                      1  \n",
              "36             78.0                      0  \n",
              "37             52.0                      0  \n",
              "38             79.0                      1  \n",
              "39             81.0                      2  \n",
              "40             80.0                      2  \n",
              "41             72.0                      1  \n",
              "42             86.0                      2  \n",
              "43             79.0                      1  \n",
              "44             80.0                      2  \n",
              "45             98.0                      3  \n",
              "46             76.0                      1  \n",
              "47             74.0                      1  \n",
              "48             77.0                      1  \n",
              "49             71.0                      1  "
            ],
            "text/html": [
              "\n",
              "  <div id=\"df-f7175b82-0c9e-4910-85cf-377323a0a61f\">\n",
              "    <div class=\"colab-df-container\">\n",
              "      <div>\n",
              "<style scoped>\n",
              "    .dataframe tbody tr th:only-of-type {\n",
              "        vertical-align: middle;\n",
              "    }\n",
              "\n",
              "    .dataframe tbody tr th {\n",
              "        vertical-align: top;\n",
              "    }\n",
              "\n",
              "    .dataframe thead th {\n",
              "        text-align: right;\n",
              "    }\n",
              "</style>\n",
              "<table border=\"1\" class=\"dataframe\">\n",
              "  <thead>\n",
              "    <tr style=\"text-align: right;\">\n",
              "      <th></th>\n",
              "      <th>Unnamed: 0</th>\n",
              "      <th>Stud_Roll_no.</th>\n",
              "      <th>Maths_Score</th>\n",
              "      <th>Reading_Score</th>\n",
              "      <th>Writing_Score</th>\n",
              "      <th>Placement_Score</th>\n",
              "      <th>Placement offer count</th>\n",
              "    </tr>\n",
              "  </thead>\n",
              "  <tbody>\n",
              "    <tr>\n",
              "      <th>0</th>\n",
              "      <td>0</td>\n",
              "      <td>1</td>\n",
              "      <td>82.0</td>\n",
              "      <td>64.00</td>\n",
              "      <td>98.0</td>\n",
              "      <td>81.0</td>\n",
              "      <td>2</td>\n",
              "    </tr>\n",
              "    <tr>\n",
              "      <th>1</th>\n",
              "      <td>1</td>\n",
              "      <td>2</td>\n",
              "      <td>74.0</td>\n",
              "      <td>86.00</td>\n",
              "      <td>98.0</td>\n",
              "      <td>86.0</td>\n",
              "      <td>2</td>\n",
              "    </tr>\n",
              "    <tr>\n",
              "      <th>2</th>\n",
              "      <td>2</td>\n",
              "      <td>3</td>\n",
              "      <td>76.0</td>\n",
              "      <td>83.00</td>\n",
              "      <td>76.0</td>\n",
              "      <td>78.0</td>\n",
              "      <td>1</td>\n",
              "    </tr>\n",
              "    <tr>\n",
              "      <th>3</th>\n",
              "      <td>3</td>\n",
              "      <td>4</td>\n",
              "      <td>25.0</td>\n",
              "      <td>73.00</td>\n",
              "      <td>77.0</td>\n",
              "      <td>58.0</td>\n",
              "      <td>0</td>\n",
              "    </tr>\n",
              "    <tr>\n",
              "      <th>4</th>\n",
              "      <td>4</td>\n",
              "      <td>5</td>\n",
              "      <td>93.0</td>\n",
              "      <td>95.00</td>\n",
              "      <td>86.0</td>\n",
              "      <td>91.0</td>\n",
              "      <td>3</td>\n",
              "    </tr>\n",
              "    <tr>\n",
              "      <th>5</th>\n",
              "      <td>5</td>\n",
              "      <td>6</td>\n",
              "      <td>75.0</td>\n",
              "      <td>83.00</td>\n",
              "      <td>97.0</td>\n",
              "      <td>85.0</td>\n",
              "      <td>2</td>\n",
              "    </tr>\n",
              "    <tr>\n",
              "      <th>6</th>\n",
              "      <td>6</td>\n",
              "      <td>7</td>\n",
              "      <td>83.0</td>\n",
              "      <td>84.00</td>\n",
              "      <td>91.0</td>\n",
              "      <td>86.0</td>\n",
              "      <td>2</td>\n",
              "    </tr>\n",
              "    <tr>\n",
              "      <th>7</th>\n",
              "      <td>7</td>\n",
              "      <td>8</td>\n",
              "      <td>72.0</td>\n",
              "      <td>90.00</td>\n",
              "      <td>71.0</td>\n",
              "      <td>78.0</td>\n",
              "      <td>1</td>\n",
              "    </tr>\n",
              "    <tr>\n",
              "      <th>8</th>\n",
              "      <td>8</td>\n",
              "      <td>9</td>\n",
              "      <td>86.0</td>\n",
              "      <td>88.00</td>\n",
              "      <td>94.0</td>\n",
              "      <td>89.0</td>\n",
              "      <td>2</td>\n",
              "    </tr>\n",
              "    <tr>\n",
              "      <th>9</th>\n",
              "      <td>9</td>\n",
              "      <td>10</td>\n",
              "      <td>92.0</td>\n",
              "      <td>76.00</td>\n",
              "      <td>98.0</td>\n",
              "      <td>89.0</td>\n",
              "      <td>2</td>\n",
              "    </tr>\n",
              "    <tr>\n",
              "      <th>10</th>\n",
              "      <td>10</td>\n",
              "      <td>11</td>\n",
              "      <td>87.0</td>\n",
              "      <td>87.00</td>\n",
              "      <td>78.0</td>\n",
              "      <td>87.0</td>\n",
              "      <td>2</td>\n",
              "    </tr>\n",
              "    <tr>\n",
              "      <th>11</th>\n",
              "      <td>11</td>\n",
              "      <td>12</td>\n",
              "      <td>97.0</td>\n",
              "      <td>97.00</td>\n",
              "      <td>94.0</td>\n",
              "      <td>96.0</td>\n",
              "      <td>3</td>\n",
              "    </tr>\n",
              "    <tr>\n",
              "      <th>12</th>\n",
              "      <td>12</td>\n",
              "      <td>13</td>\n",
              "      <td>82.0</td>\n",
              "      <td>93.00</td>\n",
              "      <td>95.0</td>\n",
              "      <td>90.0</td>\n",
              "      <td>3</td>\n",
              "    </tr>\n",
              "    <tr>\n",
              "      <th>13</th>\n",
              "      <td>13</td>\n",
              "      <td>14</td>\n",
              "      <td>89.0</td>\n",
              "      <td>83.00</td>\n",
              "      <td>88.0</td>\n",
              "      <td>87.0</td>\n",
              "      <td>2</td>\n",
              "    </tr>\n",
              "    <tr>\n",
              "      <th>14</th>\n",
              "      <td>14</td>\n",
              "      <td>15</td>\n",
              "      <td>32.0</td>\n",
              "      <td>26.00</td>\n",
              "      <td>29.0</td>\n",
              "      <td>29.0</td>\n",
              "      <td>0</td>\n",
              "    </tr>\n",
              "    <tr>\n",
              "      <th>15</th>\n",
              "      <td>15</td>\n",
              "      <td>16</td>\n",
              "      <td>99.0</td>\n",
              "      <td>96.00</td>\n",
              "      <td>80.0</td>\n",
              "      <td>92.0</td>\n",
              "      <td>3</td>\n",
              "    </tr>\n",
              "    <tr>\n",
              "      <th>16</th>\n",
              "      <td>16</td>\n",
              "      <td>17</td>\n",
              "      <td>73.0</td>\n",
              "      <td>86.00</td>\n",
              "      <td>83.0</td>\n",
              "      <td>81.0</td>\n",
              "      <td>2</td>\n",
              "    </tr>\n",
              "    <tr>\n",
              "      <th>17</th>\n",
              "      <td>17</td>\n",
              "      <td>18</td>\n",
              "      <td>71.0</td>\n",
              "      <td>65.00</td>\n",
              "      <td>78.0</td>\n",
              "      <td>71.0</td>\n",
              "      <td>1</td>\n",
              "    </tr>\n",
              "    <tr>\n",
              "      <th>18</th>\n",
              "      <td>18</td>\n",
              "      <td>19</td>\n",
              "      <td>71.0</td>\n",
              "      <td>88.00</td>\n",
              "      <td>74.0</td>\n",
              "      <td>78.0</td>\n",
              "      <td>1</td>\n",
              "    </tr>\n",
              "    <tr>\n",
              "      <th>19</th>\n",
              "      <td>19</td>\n",
              "      <td>20</td>\n",
              "      <td>63.0</td>\n",
              "      <td>86.00</td>\n",
              "      <td>94.0</td>\n",
              "      <td>81.0</td>\n",
              "      <td>2</td>\n",
              "    </tr>\n",
              "    <tr>\n",
              "      <th>20</th>\n",
              "      <td>20</td>\n",
              "      <td>21</td>\n",
              "      <td>68.0</td>\n",
              "      <td>76.00</td>\n",
              "      <td>81.0</td>\n",
              "      <td>75.0</td>\n",
              "      <td>1</td>\n",
              "    </tr>\n",
              "    <tr>\n",
              "      <th>21</th>\n",
              "      <td>21</td>\n",
              "      <td>22</td>\n",
              "      <td>73.0</td>\n",
              "      <td>93.00</td>\n",
              "      <td>73.0</td>\n",
              "      <td>80.0</td>\n",
              "      <td>2</td>\n",
              "    </tr>\n",
              "    <tr>\n",
              "      <th>22</th>\n",
              "      <td>22</td>\n",
              "      <td>23</td>\n",
              "      <td>90.0</td>\n",
              "      <td>69.00</td>\n",
              "      <td>61.0</td>\n",
              "      <td>73.0</td>\n",
              "      <td>1</td>\n",
              "    </tr>\n",
              "    <tr>\n",
              "      <th>23</th>\n",
              "      <td>23</td>\n",
              "      <td>24</td>\n",
              "      <td>77.0</td>\n",
              "      <td>66.00</td>\n",
              "      <td>79.0</td>\n",
              "      <td>73.0</td>\n",
              "      <td>1</td>\n",
              "    </tr>\n",
              "    <tr>\n",
              "      <th>24</th>\n",
              "      <td>24</td>\n",
              "      <td>25</td>\n",
              "      <td>97.0</td>\n",
              "      <td>63.00</td>\n",
              "      <td>67.0</td>\n",
              "      <td>76.0</td>\n",
              "      <td>1</td>\n",
              "    </tr>\n",
              "    <tr>\n",
              "      <th>25</th>\n",
              "      <td>25</td>\n",
              "      <td>26</td>\n",
              "      <td>85.0</td>\n",
              "      <td>96.00</td>\n",
              "      <td>99.0</td>\n",
              "      <td>93.0</td>\n",
              "      <td>3</td>\n",
              "    </tr>\n",
              "    <tr>\n",
              "      <th>26</th>\n",
              "      <td>26</td>\n",
              "      <td>27</td>\n",
              "      <td>69.0</td>\n",
              "      <td>87.00</td>\n",
              "      <td>69.0</td>\n",
              "      <td>75.0</td>\n",
              "      <td>1</td>\n",
              "    </tr>\n",
              "    <tr>\n",
              "      <th>27</th>\n",
              "      <td>27</td>\n",
              "      <td>28</td>\n",
              "      <td>63.0</td>\n",
              "      <td>63.00</td>\n",
              "      <td>66.0</td>\n",
              "      <td>64.0</td>\n",
              "      <td>1</td>\n",
              "    </tr>\n",
              "    <tr>\n",
              "      <th>28</th>\n",
              "      <td>28</td>\n",
              "      <td>29</td>\n",
              "      <td>78.0</td>\n",
              "      <td>90.00</td>\n",
              "      <td>72.0</td>\n",
              "      <td>80.0</td>\n",
              "      <td>2</td>\n",
              "    </tr>\n",
              "    <tr>\n",
              "      <th>29</th>\n",
              "      <td>29</td>\n",
              "      <td>30</td>\n",
              "      <td>96.0</td>\n",
              "      <td>83.00</td>\n",
              "      <td>79.0</td>\n",
              "      <td>86.0</td>\n",
              "      <td>2</td>\n",
              "    </tr>\n",
              "    <tr>\n",
              "      <th>30</th>\n",
              "      <td>30</td>\n",
              "      <td>31</td>\n",
              "      <td>96.0</td>\n",
              "      <td>82.00</td>\n",
              "      <td>61.0</td>\n",
              "      <td>80.0</td>\n",
              "      <td>2</td>\n",
              "    </tr>\n",
              "    <tr>\n",
              "      <th>31</th>\n",
              "      <td>31</td>\n",
              "      <td>32</td>\n",
              "      <td>19.0</td>\n",
              "      <td>81.00</td>\n",
              "      <td>69.0</td>\n",
              "      <td>56.0</td>\n",
              "      <td>0</td>\n",
              "    </tr>\n",
              "    <tr>\n",
              "      <th>32</th>\n",
              "      <td>32</td>\n",
              "      <td>33</td>\n",
              "      <td>99.0</td>\n",
              "      <td>96.00</td>\n",
              "      <td>63.0</td>\n",
              "      <td>86.0</td>\n",
              "      <td>2</td>\n",
              "    </tr>\n",
              "    <tr>\n",
              "      <th>33</th>\n",
              "      <td>33</td>\n",
              "      <td>34</td>\n",
              "      <td>64.0</td>\n",
              "      <td>99.00</td>\n",
              "      <td>86.0</td>\n",
              "      <td>83.0</td>\n",
              "      <td>2</td>\n",
              "    </tr>\n",
              "    <tr>\n",
              "      <th>34</th>\n",
              "      <td>34</td>\n",
              "      <td>35</td>\n",
              "      <td>92.0</td>\n",
              "      <td>97.00</td>\n",
              "      <td>66.0</td>\n",
              "      <td>85.0</td>\n",
              "      <td>2</td>\n",
              "    </tr>\n",
              "    <tr>\n",
              "      <th>35</th>\n",
              "      <td>35</td>\n",
              "      <td>36</td>\n",
              "      <td>74.0</td>\n",
              "      <td>71.00</td>\n",
              "      <td>91.0</td>\n",
              "      <td>79.0</td>\n",
              "      <td>1</td>\n",
              "    </tr>\n",
              "    <tr>\n",
              "      <th>36</th>\n",
              "      <td>36</td>\n",
              "      <td>37</td>\n",
              "      <td>65.0</td>\n",
              "      <td>98.00</td>\n",
              "      <td>72.0</td>\n",
              "      <td>78.0</td>\n",
              "      <td>0</td>\n",
              "    </tr>\n",
              "    <tr>\n",
              "      <th>37</th>\n",
              "      <td>37</td>\n",
              "      <td>38</td>\n",
              "      <td>68.0</td>\n",
              "      <td>13.00</td>\n",
              "      <td>76.0</td>\n",
              "      <td>52.0</td>\n",
              "      <td>0</td>\n",
              "    </tr>\n",
              "    <tr>\n",
              "      <th>38</th>\n",
              "      <td>38</td>\n",
              "      <td>39</td>\n",
              "      <td>67.0</td>\n",
              "      <td>81.00</td>\n",
              "      <td>89.0</td>\n",
              "      <td>79.0</td>\n",
              "      <td>1</td>\n",
              "    </tr>\n",
              "    <tr>\n",
              "      <th>39</th>\n",
              "      <td>39</td>\n",
              "      <td>40</td>\n",
              "      <td>85.0</td>\n",
              "      <td>78.00</td>\n",
              "      <td>80.0</td>\n",
              "      <td>81.0</td>\n",
              "      <td>2</td>\n",
              "    </tr>\n",
              "    <tr>\n",
              "      <th>40</th>\n",
              "      <td>40</td>\n",
              "      <td>41</td>\n",
              "      <td>68.0</td>\n",
              "      <td>96.00</td>\n",
              "      <td>75.0</td>\n",
              "      <td>80.0</td>\n",
              "      <td>2</td>\n",
              "    </tr>\n",
              "    <tr>\n",
              "      <th>41</th>\n",
              "      <td>41</td>\n",
              "      <td>42</td>\n",
              "      <td>77.0</td>\n",
              "      <td>81.00</td>\n",
              "      <td>62.0</td>\n",
              "      <td>72.0</td>\n",
              "      <td>1</td>\n",
              "    </tr>\n",
              "    <tr>\n",
              "      <th>42</th>\n",
              "      <td>42</td>\n",
              "      <td>43</td>\n",
              "      <td>76.0</td>\n",
              "      <td>91.00</td>\n",
              "      <td>92.0</td>\n",
              "      <td>86.0</td>\n",
              "      <td>2</td>\n",
              "    </tr>\n",
              "    <tr>\n",
              "      <th>43</th>\n",
              "      <td>43</td>\n",
              "      <td>44</td>\n",
              "      <td>95.0</td>\n",
              "      <td>63.00</td>\n",
              "      <td>80.0</td>\n",
              "      <td>79.0</td>\n",
              "      <td>1</td>\n",
              "    </tr>\n",
              "    <tr>\n",
              "      <th>44</th>\n",
              "      <td>44</td>\n",
              "      <td>45</td>\n",
              "      <td>89.0</td>\n",
              "      <td>90.00</td>\n",
              "      <td>60.0</td>\n",
              "      <td>80.0</td>\n",
              "      <td>2</td>\n",
              "    </tr>\n",
              "    <tr>\n",
              "      <th>45</th>\n",
              "      <td>45</td>\n",
              "      <td>46</td>\n",
              "      <td>98.0</td>\n",
              "      <td>80.06</td>\n",
              "      <td>98.0</td>\n",
              "      <td>98.0</td>\n",
              "      <td>3</td>\n",
              "    </tr>\n",
              "    <tr>\n",
              "      <th>46</th>\n",
              "      <td>46</td>\n",
              "      <td>47</td>\n",
              "      <td>84.0</td>\n",
              "      <td>84.00</td>\n",
              "      <td>61.0</td>\n",
              "      <td>76.0</td>\n",
              "      <td>1</td>\n",
              "    </tr>\n",
              "    <tr>\n",
              "      <th>47</th>\n",
              "      <td>47</td>\n",
              "      <td>48</td>\n",
              "      <td>74.0</td>\n",
              "      <td>63.00</td>\n",
              "      <td>85.0</td>\n",
              "      <td>74.0</td>\n",
              "      <td>1</td>\n",
              "    </tr>\n",
              "    <tr>\n",
              "      <th>48</th>\n",
              "      <td>48</td>\n",
              "      <td>49</td>\n",
              "      <td>74.0</td>\n",
              "      <td>66.00</td>\n",
              "      <td>90.0</td>\n",
              "      <td>77.0</td>\n",
              "      <td>1</td>\n",
              "    </tr>\n",
              "    <tr>\n",
              "      <th>49</th>\n",
              "      <td>49</td>\n",
              "      <td>50</td>\n",
              "      <td>71.0</td>\n",
              "      <td>78.00</td>\n",
              "      <td>64.0</td>\n",
              "      <td>71.0</td>\n",
              "      <td>1</td>\n",
              "    </tr>\n",
              "  </tbody>\n",
              "</table>\n",
              "</div>\n",
              "      <button class=\"colab-df-convert\" onclick=\"convertToInteractive('df-f7175b82-0c9e-4910-85cf-377323a0a61f')\"\n",
              "              title=\"Convert this dataframe to an interactive table.\"\n",
              "              style=\"display:none;\">\n",
              "        \n",
              "  <svg xmlns=\"http://www.w3.org/2000/svg\" height=\"24px\"viewBox=\"0 0 24 24\"\n",
              "       width=\"24px\">\n",
              "    <path d=\"M0 0h24v24H0V0z\" fill=\"none\"/>\n",
              "    <path d=\"M18.56 5.44l.94 2.06.94-2.06 2.06-.94-2.06-.94-.94-2.06-.94 2.06-2.06.94zm-11 1L8.5 8.5l.94-2.06 2.06-.94-2.06-.94L8.5 2.5l-.94 2.06-2.06.94zm10 10l.94 2.06.94-2.06 2.06-.94-2.06-.94-.94-2.06-.94 2.06-2.06.94z\"/><path d=\"M17.41 7.96l-1.37-1.37c-.4-.4-.92-.59-1.43-.59-.52 0-1.04.2-1.43.59L10.3 9.45l-7.72 7.72c-.78.78-.78 2.05 0 2.83L4 21.41c.39.39.9.59 1.41.59.51 0 1.02-.2 1.41-.59l7.78-7.78 2.81-2.81c.8-.78.8-2.07 0-2.86zM5.41 20L4 18.59l7.72-7.72 1.47 1.35L5.41 20z\"/>\n",
              "  </svg>\n",
              "      </button>\n",
              "      \n",
              "  <style>\n",
              "    .colab-df-container {\n",
              "      display:flex;\n",
              "      flex-wrap:wrap;\n",
              "      gap: 12px;\n",
              "    }\n",
              "\n",
              "    .colab-df-convert {\n",
              "      background-color: #E8F0FE;\n",
              "      border: none;\n",
              "      border-radius: 50%;\n",
              "      cursor: pointer;\n",
              "      display: none;\n",
              "      fill: #1967D2;\n",
              "      height: 32px;\n",
              "      padding: 0 0 0 0;\n",
              "      width: 32px;\n",
              "    }\n",
              "\n",
              "    .colab-df-convert:hover {\n",
              "      background-color: #E2EBFA;\n",
              "      box-shadow: 0px 1px 2px rgba(60, 64, 67, 0.3), 0px 1px 3px 1px rgba(60, 64, 67, 0.15);\n",
              "      fill: #174EA6;\n",
              "    }\n",
              "\n",
              "    [theme=dark] .colab-df-convert {\n",
              "      background-color: #3B4455;\n",
              "      fill: #D2E3FC;\n",
              "    }\n",
              "\n",
              "    [theme=dark] .colab-df-convert:hover {\n",
              "      background-color: #434B5C;\n",
              "      box-shadow: 0px 1px 3px 1px rgba(0, 0, 0, 0.15);\n",
              "      filter: drop-shadow(0px 1px 2px rgba(0, 0, 0, 0.3));\n",
              "      fill: #FFFFFF;\n",
              "    }\n",
              "  </style>\n",
              "\n",
              "      <script>\n",
              "        const buttonEl =\n",
              "          document.querySelector('#df-f7175b82-0c9e-4910-85cf-377323a0a61f button.colab-df-convert');\n",
              "        buttonEl.style.display =\n",
              "          google.colab.kernel.accessAllowed ? 'block' : 'none';\n",
              "\n",
              "        async function convertToInteractive(key) {\n",
              "          const element = document.querySelector('#df-f7175b82-0c9e-4910-85cf-377323a0a61f');\n",
              "          const dataTable =\n",
              "            await google.colab.kernel.invokeFunction('convertToInteractive',\n",
              "                                                     [key], {});\n",
              "          if (!dataTable) return;\n",
              "\n",
              "          const docLinkHtml = 'Like what you see? Visit the ' +\n",
              "            '<a target=\"_blank\" href=https://colab.research.google.com/notebooks/data_table.ipynb>data table notebook</a>'\n",
              "            + ' to learn more about interactive tables.';\n",
              "          element.innerHTML = '';\n",
              "          dataTable['output_type'] = 'display_data';\n",
              "          await google.colab.output.renderOutput(dataTable, element);\n",
              "          const docLink = document.createElement('div');\n",
              "          docLink.innerHTML = docLinkHtml;\n",
              "          element.appendChild(docLink);\n",
              "        }\n",
              "      </script>\n",
              "    </div>\n",
              "  </div>\n",
              "  "
            ]
          },
          "metadata": {},
          "execution_count": 2
        }
      ],
      "source": [
        "import pandas as pd\n",
        "mkp=pd.read_csv(\"/content/drive/MyDrive/my documents\\student_new_record.csv\")\n",
        "mkp\n"
      ]
    },
    {
      "cell_type": "markdown",
      "source": [
        "**calculating the mean of each column**"
      ],
      "metadata": {
        "id": "SnHlhrFRUcM6"
      }
    },
    {
      "cell_type": "code",
      "source": [
        "mean1=mkp['Maths_Score'].mean()\n",
        "mean1"
      ],
      "metadata": {
        "colab": {
          "base_uri": "https://localhost:8080/"
        },
        "id": "uYAuCKcmUw_7",
        "outputId": "2ef76a91-ffac-44d1-9f22-40b3f6e6d689"
      },
      "execution_count": null,
      "outputs": [
        {
          "output_type": "execute_result",
          "data": {
            "text/plain": [
              "77.06"
            ]
          },
          "metadata": {},
          "execution_count": 6
        }
      ]
    },
    {
      "cell_type": "code",
      "source": [
        "mean2=mkp['Reading_Score'].mean()\n",
        "mean2"
      ],
      "metadata": {
        "colab": {
          "base_uri": "https://localhost:8080/"
        },
        "id": "yxe9fB78VvnL",
        "outputId": "c378a44c-dec3-40e7-e703-7b0aa0c7608a"
      },
      "execution_count": null,
      "outputs": [
        {
          "output_type": "execute_result",
          "data": {
            "text/plain": [
              "80.0612"
            ]
          },
          "metadata": {},
          "execution_count": 7
        }
      ]
    },
    {
      "cell_type": "code",
      "source": [
        "mean3=mkp['Writing_Score'].mean()\n",
        "mean3\n"
      ],
      "metadata": {
        "colab": {
          "base_uri": "https://localhost:8080/"
        },
        "id": "br-hBxl3Vv29",
        "outputId": "d8a0d405-1b3f-40ad-87bc-a35a8a69b576"
      },
      "execution_count": null,
      "outputs": [
        {
          "output_type": "execute_result",
          "data": {
            "text/plain": [
              "78.9"
            ]
          },
          "metadata": {},
          "execution_count": 8
        }
      ]
    },
    {
      "cell_type": "code",
      "source": [
        "mean4=mkp['Placement_Score'].mean()\n",
        "mean4\n"
      ],
      "metadata": {
        "colab": {
          "base_uri": "https://localhost:8080/"
        },
        "id": "Pr5YBGWAVwJG",
        "outputId": "48abeca2-29d6-4fd2-a647-6911a7d5e144"
      },
      "execution_count": null,
      "outputs": [
        {
          "output_type": "execute_result",
          "data": {
            "text/plain": [
              "78.8"
            ]
          },
          "metadata": {},
          "execution_count": 9
        }
      ]
    },
    {
      "cell_type": "code",
      "source": [
        "mean5=mkp['Placement offer count'].mean()\n",
        "mean5\n"
      ],
      "metadata": {
        "colab": {
          "base_uri": "https://localhost:8080/"
        },
        "id": "kxqJuxPPVwd5",
        "outputId": "d0906290-78a1-4342-a2bd-e773ba0f1096"
      },
      "execution_count": null,
      "outputs": [
        {
          "output_type": "execute_result",
          "data": {
            "text/plain": [
              "1.56"
            ]
          },
          "metadata": {},
          "execution_count": 10
        }
      ]
    },
    {
      "cell_type": "markdown",
      "source": [
        "**Next we calculating the medain of each column**"
      ],
      "metadata": {
        "id": "7HLRT-UhWT-8"
      }
    },
    {
      "cell_type": "code",
      "source": [
        "median1=mkp['Maths_Score'].median()\n",
        "median1"
      ],
      "metadata": {
        "colab": {
          "base_uri": "https://localhost:8080/"
        },
        "id": "vfsWjjbXWqxE",
        "outputId": "50087330-d3ab-463b-98ac-6e4ff3332206"
      },
      "execution_count": null,
      "outputs": [
        {
          "output_type": "execute_result",
          "data": {
            "text/plain": [
              "76.5"
            ]
          },
          "metadata": {},
          "execution_count": 13
        }
      ]
    },
    {
      "cell_type": "code",
      "source": [
        "median2=mkp['Reading_Score'].median()\n",
        "median2"
      ],
      "metadata": {
        "colab": {
          "base_uri": "https://localhost:8080/"
        },
        "id": "JD8izSceWW6J",
        "outputId": "109b8566-bbd9-4bd8-b647-3cbc2c59fe1a"
      },
      "execution_count": null,
      "outputs": [
        {
          "output_type": "execute_result",
          "data": {
            "text/plain": [
              "83.0"
            ]
          },
          "metadata": {},
          "execution_count": 14
        }
      ]
    },
    {
      "cell_type": "code",
      "source": [
        "median3=mkp['Writing_Score'].median()\n",
        "median3"
      ],
      "metadata": {
        "colab": {
          "base_uri": "https://localhost:8080/"
        },
        "id": "m8Lbkh40XbO1",
        "outputId": "b0c000b9-0de0-49bc-b15e-882908b1b9c6"
      },
      "execution_count": null,
      "outputs": [
        {
          "output_type": "execute_result",
          "data": {
            "text/plain": [
              "79.0"
            ]
          },
          "metadata": {},
          "execution_count": 15
        }
      ]
    },
    {
      "cell_type": "code",
      "source": [
        "median4=mkp['Placement_Score'].median()\n",
        "median4"
      ],
      "metadata": {
        "colab": {
          "base_uri": "https://localhost:8080/"
        },
        "id": "Uj5ReVvVXcSG",
        "outputId": "992244ea-adba-4c40-cefd-43f4cd5100cf"
      },
      "execution_count": null,
      "outputs": [
        {
          "output_type": "execute_result",
          "data": {
            "text/plain": [
              "80.0"
            ]
          },
          "metadata": {},
          "execution_count": 16
        }
      ]
    },
    {
      "cell_type": "code",
      "source": [
        "median5=mkp['Placement offer count'].median()\n",
        "median5"
      ],
      "metadata": {
        "colab": {
          "base_uri": "https://localhost:8080/"
        },
        "id": "WZgdgJSkXcgW",
        "outputId": "d54a3ff6-d090-4a9e-c2a3-0f172bdca2cd"
      },
      "execution_count": null,
      "outputs": [
        {
          "output_type": "execute_result",
          "data": {
            "text/plain": [
              "2.0"
            ]
          },
          "metadata": {},
          "execution_count": 17
        }
      ]
    },
    {
      "cell_type": "markdown",
      "source": [
        "**Next we calculating the minimum value of each column**"
      ],
      "metadata": {
        "id": "DfRcxJxWX9E5"
      }
    },
    {
      "cell_type": "code",
      "source": [
        "minimum1=mkp['Maths_Score'].min()\n",
        "minimum1"
      ],
      "metadata": {
        "colab": {
          "base_uri": "https://localhost:8080/"
        },
        "id": "qv4aCXiVYQco",
        "outputId": "3a1c7705-2a49-41d4-a8e1-21b4e0b00c15"
      },
      "execution_count": null,
      "outputs": [
        {
          "output_type": "execute_result",
          "data": {
            "text/plain": [
              "19.0"
            ]
          },
          "metadata": {},
          "execution_count": 20
        }
      ]
    },
    {
      "cell_type": "code",
      "source": [
        "minimum2=mkp['Reading_Score'].min()\n",
        "minimum2"
      ],
      "metadata": {
        "colab": {
          "base_uri": "https://localhost:8080/"
        },
        "id": "F0yYsrR8YpIQ",
        "outputId": "23752925-f8b6-436a-acbc-6cf20c05f2f4"
      },
      "execution_count": null,
      "outputs": [
        {
          "output_type": "execute_result",
          "data": {
            "text/plain": [
              "13.0"
            ]
          },
          "metadata": {},
          "execution_count": 21
        }
      ]
    },
    {
      "cell_type": "code",
      "source": [
        "minimum3=mkp['Writing_Score'].min()\n",
        "minimum3"
      ],
      "metadata": {
        "colab": {
          "base_uri": "https://localhost:8080/"
        },
        "id": "XMdQDVxjYpXV",
        "outputId": "df912cba-7629-42a3-ac06-c5a808bd72ff"
      },
      "execution_count": null,
      "outputs": [
        {
          "output_type": "execute_result",
          "data": {
            "text/plain": [
              "29.0"
            ]
          },
          "metadata": {},
          "execution_count": 25
        }
      ]
    },
    {
      "cell_type": "code",
      "source": [
        "minimum4=mkp['Placement_Score'].min()\n",
        "minimum4"
      ],
      "metadata": {
        "colab": {
          "base_uri": "https://localhost:8080/"
        },
        "id": "Ff8BZr5VYplQ",
        "outputId": "52cfe11e-80e8-4023-d89d-ac224079f50e"
      },
      "execution_count": null,
      "outputs": [
        {
          "output_type": "execute_result",
          "data": {
            "text/plain": [
              "29.0"
            ]
          },
          "metadata": {},
          "execution_count": 23
        }
      ]
    },
    {
      "cell_type": "code",
      "source": [
        "minimum5=mkp['Placement offer count'].min()\n",
        "minimum5"
      ],
      "metadata": {
        "colab": {
          "base_uri": "https://localhost:8080/"
        },
        "id": "HXbqPkgxYpyt",
        "outputId": "c228c04c-4eb8-44fb-fa82-9a9de1613a36"
      },
      "execution_count": null,
      "outputs": [
        {
          "output_type": "execute_result",
          "data": {
            "text/plain": [
              "0"
            ]
          },
          "metadata": {},
          "execution_count": 24
        }
      ]
    },
    {
      "cell_type": "markdown",
      "source": [
        "**Next we calculating the maximum value of each column**"
      ],
      "metadata": {
        "id": "4nDmUdc6Z4Ql"
      }
    },
    {
      "cell_type": "code",
      "source": [
        "maximum1=mkp['Maths_Score'].max()\n",
        "maximum1"
      ],
      "metadata": {
        "colab": {
          "base_uri": "https://localhost:8080/"
        },
        "id": "OUei7TowaKJi",
        "outputId": "35db95fb-5b44-4ba9-e35a-4648eb1796cd"
      },
      "execution_count": null,
      "outputs": [
        {
          "output_type": "execute_result",
          "data": {
            "text/plain": [
              "99.0"
            ]
          },
          "metadata": {},
          "execution_count": 26
        }
      ]
    },
    {
      "cell_type": "code",
      "source": [
        "maximum2=mkp['Reading_Score'].max()\n",
        "maximum2"
      ],
      "metadata": {
        "colab": {
          "base_uri": "https://localhost:8080/"
        },
        "id": "P_oklo3qaYpR",
        "outputId": "1fb74891-e6a2-4cfa-8eff-9cf087c82b25"
      },
      "execution_count": null,
      "outputs": [
        {
          "output_type": "execute_result",
          "data": {
            "text/plain": [
              "99.0"
            ]
          },
          "metadata": {},
          "execution_count": 27
        }
      ]
    },
    {
      "cell_type": "code",
      "source": [
        "maximum3=mkp['Writing_Score'].max()\n",
        "maximum3"
      ],
      "metadata": {
        "colab": {
          "base_uri": "https://localhost:8080/"
        },
        "id": "invR5-XTaY6U",
        "outputId": "3b90d2a7-6672-4986-e9b7-68055e7b5d3b"
      },
      "execution_count": null,
      "outputs": [
        {
          "output_type": "execute_result",
          "data": {
            "text/plain": [
              "99.0"
            ]
          },
          "metadata": {},
          "execution_count": 28
        }
      ]
    },
    {
      "cell_type": "code",
      "source": [
        "maximum4=mkp['Placement_Score'].max()\n",
        "maximum4"
      ],
      "metadata": {
        "colab": {
          "base_uri": "https://localhost:8080/"
        },
        "id": "uWD4pwOsaZHu",
        "outputId": "36a71382-845a-4dd4-b62c-dd6d08a5a9d2"
      },
      "execution_count": null,
      "outputs": [
        {
          "output_type": "execute_result",
          "data": {
            "text/plain": [
              "98.0"
            ]
          },
          "metadata": {},
          "execution_count": 29
        }
      ]
    },
    {
      "cell_type": "code",
      "source": [
        "maximum5=mkp['Placement offer count'].max()\n",
        "maximum5"
      ],
      "metadata": {
        "colab": {
          "base_uri": "https://localhost:8080/"
        },
        "id": "Ol56n0PHaZYP",
        "outputId": "c0cb12c9-127d-4ff8-fca0-c143628bafbc"
      },
      "execution_count": null,
      "outputs": [
        {
          "output_type": "execute_result",
          "data": {
            "text/plain": [
              "3"
            ]
          },
          "metadata": {},
          "execution_count": 30
        }
      ]
    },
    {
      "cell_type": "markdown",
      "source": [
        "**Next we calculating the standard deviation of each column**"
      ],
      "metadata": {
        "id": "MrVD0P6xa9iK"
      }
    },
    {
      "cell_type": "code",
      "source": [
        "sd1=mkp['Maths_Score'].std()\n",
        "sd1"
      ],
      "metadata": {
        "colab": {
          "base_uri": "https://localhost:8080/"
        },
        "id": "myR7oVsabH0c",
        "outputId": "0231b475-b097-4e37-bc64-18a2f0ff9654"
      },
      "execution_count": null,
      "outputs": [
        {
          "output_type": "execute_result",
          "data": {
            "text/plain": [
              "17.068182596365002"
            ]
          },
          "metadata": {},
          "execution_count": 31
        }
      ]
    },
    {
      "cell_type": "code",
      "source": [
        "sd2=mkp['Reading_Score'].std()\n",
        "sd2"
      ],
      "metadata": {
        "colab": {
          "base_uri": "https://localhost:8080/"
        },
        "id": "GINVSzFLbh08",
        "outputId": "fe2f8125-a633-49a3-ee34-9c2d995b9ff3"
      },
      "execution_count": null,
      "outputs": [
        {
          "output_type": "execute_result",
          "data": {
            "text/plain": [
              "16.539881503906408"
            ]
          },
          "metadata": {},
          "execution_count": 32
        }
      ]
    },
    {
      "cell_type": "code",
      "source": [
        "sd3=mkp['Writing_Score'].std()\n",
        "sd3"
      ],
      "metadata": {
        "colab": {
          "base_uri": "https://localhost:8080/"
        },
        "id": "H5Ay4pDSbiFc",
        "outputId": "127c6841-205c-4f88-9bd7-b37d41c133fb"
      },
      "execution_count": null,
      "outputs": [
        {
          "output_type": "execute_result",
          "data": {
            "text/plain": [
              "13.969719439719961"
            ]
          },
          "metadata": {},
          "execution_count": 34
        }
      ]
    },
    {
      "cell_type": "code",
      "source": [
        "sd4=mkp['Placement_Score'].std()\n",
        "sd4"
      ],
      "metadata": {
        "colab": {
          "base_uri": "https://localhost:8080/"
        },
        "id": "tSt6_D8JbiQf",
        "outputId": "6348a52c-1a04-4c34-81e0-4723f71437f7"
      },
      "execution_count": null,
      "outputs": [
        {
          "output_type": "execute_result",
          "data": {
            "text/plain": [
              "11.707314999170215"
            ]
          },
          "metadata": {},
          "execution_count": 33
        }
      ]
    },
    {
      "cell_type": "code",
      "source": [
        "sd5=mkp['Placement offer count'].std()\n",
        "sd5"
      ],
      "metadata": {
        "colab": {
          "base_uri": "https://localhost:8080/"
        },
        "id": "FI-7GbnLbicn",
        "outputId": "1f1f5f7e-9d6d-492e-cd60-10a10e7628cb"
      },
      "execution_count": null,
      "outputs": [
        {
          "output_type": "execute_result",
          "data": {
            "text/plain": [
              "0.8369039151929607"
            ]
          },
          "metadata": {},
          "execution_count": 35
        }
      ]
    }
  ]
}