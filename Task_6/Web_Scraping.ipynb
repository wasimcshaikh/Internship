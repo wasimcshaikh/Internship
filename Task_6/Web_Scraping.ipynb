{
  "nbformat": 4,
  "nbformat_minor": 0,
  "metadata": {
    "colab": {
      "provenance": [],
      "include_colab_link": true
    },
    "kernelspec": {
      "name": "python3",
      "display_name": "Python 3"
    },
    "language_info": {
      "name": "python"
    }
  },
  "cells": [
    {
      "cell_type": "markdown",
      "metadata": {
        "id": "view-in-github",
        "colab_type": "text"
      },
      "source": [
        "<a href=\"https://colab.research.google.com/github/wasimcshaikh/Internship/blob/main/Task_6/Web_Scraping.ipynb\" target=\"_parent\"><img src=\"https://colab.research.google.com/assets/colab-badge.svg\" alt=\"Open In Colab\"/></a>"
      ]
    },
    {
      "cell_type": "code",
      "execution_count": null,
      "metadata": {
        "id": "ytEpHIzt6h3D"
      },
      "outputs": [],
      "source": [
        "import csv\n",
        "import requests\n",
        "from bs4 import BeautifulSoup"
      ]
    },
    {
      "cell_type": "code",
      "source": [
        "url = 'https://www.flipkart.com/computers/laptops/pr?sid=6bo,b5g&otracker=categorytree'\n",
        "response = requests.get(url)"
      ],
      "metadata": {
        "id": "9mPr0Aqo62Nl"
      },
      "execution_count": null,
      "outputs": []
    },
    {
      "cell_type": "code",
      "source": [
        "if response.status_code == 200:\n",
        "    html_content = response.content\n",
        "else:\n",
        "    print('Failed to get content')"
      ],
      "metadata": {
        "id": "OJQN2U6O7M11"
      },
      "execution_count": null,
      "outputs": []
    },
    {
      "cell_type": "code",
      "source": [
        "soup = BeautifulSoup(html_content, 'html.parser')\n",
        "laptops = soup.find_all('div', class_='_2kHMtA')"
      ],
      "metadata": {
        "id": "5GbOnyA77NR8"
      },
      "execution_count": null,
      "outputs": []
    },
    {
      "cell_type": "code",
      "source": [
        "with open('Laptops.csv', mode='w', newline='') as laptop_file:\n",
        "    laptop_writer = csv.writer(laptop_file)\n",
        "    laptop_writer.writerow(['Name', 'Price', 'Rating'])"
      ],
      "metadata": {
        "id": "VYVCGVk37Nqc"
      },
      "execution_count": null,
      "outputs": []
    },
    {
      "cell_type": "code",
      "source": [
        "for laptop in laptops:\n",
        "    name = laptop.find('div', class_='_4rR01T').text\n",
        "    price = laptop.find('div', class_='_30jeq3 _1_WHN1').text\n",
        "    rating_element = laptop.find('div', class_='_3LWZlK')\n",
        "    rating = rating_element.text if rating_element is not None else 'N/A'\n",
        "\n",
        "    print(name, price, rating)"
      ],
      "metadata": {
        "colab": {
          "base_uri": "https://localhost:8080/"
        },
        "id": "UgGRYgjJ7n3D",
        "outputId": "e3361529-7a58-4b72-e25e-b064b48527e1"
      },
      "execution_count": null,
      "outputs": [
        {
          "output_type": "stream",
          "name": "stdout",
          "text": [
            "HP Pavilion Gaming Ryzen 5 Quad Core 3550H - (8 GB/512 GB SSD/Windows 10 Home/4 GB Graphics/NVIDIA GeF... ₹59,990 4.4\n",
            "Primebook 4G Android Based MediaTek MT8788 - (4 GB/64 GB EMMC Storage/Prime OS) 4G Thin and Light Lapt... ₹16,990 N/A\n",
            "ASUS TUF Gaming F15 Core i5 10th Gen - (8 GB/512 GB SSD/Windows 11 Home/4 GB Graphics/NVIDIA GeForce G... ₹49,990 4.4\n",
            "HP 14s Intel Core i3 11th Gen - (8 GB/256 GB SSD/Windows 11 Home) 14s - dy2507TU Thin and Light Laptop ₹35,490 4.2\n",
            "Infinix INBook Y1 Plus Intel Core i3 10th Gen - (8 GB/256 GB SSD/Windows 11 Home) XL28 Thin and Light ... ₹28,990 4.2\n",
            "acer Aspire 3 Ryzen 3 Dual Core 3250U - (8 GB/256 GB SSD/Windows 11 Home) A315-23 Laptop ₹25,990 4.2\n",
            "Infinix INBook Y1 Plus Intel Core i3 10th Gen - (8 GB/256 GB SSD/Windows 11 Home) XL28 Thin and Light ... ₹28,990 4.2\n",
            "Primebook 4G Android Based MediaTek MT8788 - (4 GB/64 GB EMMC Storage/Prime OS) 4G Thin and Light Lapt... ₹16,990 N/A\n",
            "Lenovo Intel Celeron Dual Core - (8 GB/256 GB SSD/Windows 11 Home) 81WQ00MQIN|81WQ00NXIN Laptop ₹25,990 4.1\n",
            "ASUS VivoBook 14 (2021) Celeron Dual Core - (4 GB/256 GB SSD/Windows 11 Home) X415MA-BV011W Thin and L... ₹21,990 4.1\n",
            "HP 15s Intel Core i3 12th Gen - (8 GB/512 GB SSD/Windows 11 Home) 15s-fq5007TU Thin and Light Laptop ₹43,990 4.3\n",
            "Primebook 4G Android Based MediaTek MT8788 - (4 GB/128 GB EMMC Storage/Prime OS) 4G Thin and Light Lap... ₹18,990 N/A\n",
            "DELL Vostro Core i3 11th Gen - (8 GB/1 TB HDD/256 GB SSD/Windows 11 Home) Vostro 3510 Thin and Light L... ₹40,990 4\n",
            "ASUS VivoBook K15 OLED (2022) Ryzen 5 Hexa Core AMD R5-5500U - (8 GB/1 TB HDD/256 GB SSD/Windows 11 Ho... ₹47,990 4.4\n",
            "HP Intel Core i5 11th Gen - (8 GB/512 GB SSD/Windows 11 Home) 15s- fr4000TU Thin and Light Laptop ₹52,990 4.3\n",
            "RedmiBook Pro Core i5 11th Gen - (8 GB/512 GB SSD/Windows 11 Home) Thin and Light Laptop ₹37,990 4.1\n",
            "ASUS Vivobook S14 OLED (2022) Intel EVO Core i5 12th Gen - (16 GB/512 GB SSD/Windows 11 Home) S3402ZA-... ₹70,990 4.5\n",
            "MSI Core i9 12th Gen - (16 GB/1 TB SSD/Windows 11 Home/6 GB Graphics/NVIDIA GeForce RTX 3060/165 Hz) P... ₹1,09,990 4.5\n",
            "ASUS Vivobook 15 Core i3 11th Gen - (8 GB/512 GB SSD/Windows 11 Home) X515EA-EJ322WS Thin and Light La... ₹34,990 4.1\n",
            "DELL G7 Core i9 10th Gen - (16 GB/1 TB SSD/Windows 10 Home/8 GB Graphics/NVIDIA GeForce RTX 2070/300 H... ₹2,06,490 4.3\n",
            "ASUS TUF Gaming A17 with 90Whr Battery Ryzen 5 Hexa Core AMD R5-4600H - (8 GB/512 GB SSD/Windows 11 Ho... ₹53,990 4.4\n",
            "HP Victus Ryzen 5 Hexa Core 5600H - (8 GB/512 GB SSD/Windows 11 Home/4 GB Graphics/NVIDIA GeForce GTX ... ₹54,990 4.2\n",
            "HP 15s Intel Core i3 11th Gen - (8 GB/512 GB SSD/Windows 11 Home) 15s-fr2511TU Thin and Light Laptop ₹40,400 4.2\n",
            "acer Extensa Ryzen 5 Quad Core 7520U - (8 GB/512 GB SSD/Windows 11 Home) EX215-23 Notebook ₹48,999 N/A\n"
          ]
        }
      ]
    },
    {
      "cell_type": "code",
      "source": [
        "from google.colab import files\n",
        "\n",
        "files.download('Laptops.csv')"
      ],
      "metadata": {
        "colab": {
          "base_uri": "https://localhost:8080/",
          "height": 17
        },
        "id": "bttLU_WE9muT",
        "outputId": "a36d7bee-93f8-4c0a-eaee-41aa93f037e6"
      },
      "execution_count": null,
      "outputs": [
        {
          "output_type": "display_data",
          "data": {
            "text/plain": [
              "<IPython.core.display.Javascript object>"
            ],
            "application/javascript": [
              "\n",
              "    async function download(id, filename, size) {\n",
              "      if (!google.colab.kernel.accessAllowed) {\n",
              "        return;\n",
              "      }\n",
              "      const div = document.createElement('div');\n",
              "      const label = document.createElement('label');\n",
              "      label.textContent = `Downloading \"${filename}\": `;\n",
              "      div.appendChild(label);\n",
              "      const progress = document.createElement('progress');\n",
              "      progress.max = size;\n",
              "      div.appendChild(progress);\n",
              "      document.body.appendChild(div);\n",
              "\n",
              "      const buffers = [];\n",
              "      let downloaded = 0;\n",
              "\n",
              "      const channel = await google.colab.kernel.comms.open(id);\n",
              "      // Send a message to notify the kernel that we're ready.\n",
              "      channel.send({})\n",
              "\n",
              "      for await (const message of channel.messages) {\n",
              "        // Send a message to notify the kernel that we're ready.\n",
              "        channel.send({})\n",
              "        if (message.buffers) {\n",
              "          for (const buffer of message.buffers) {\n",
              "            buffers.push(buffer);\n",
              "            downloaded += buffer.byteLength;\n",
              "            progress.value = downloaded;\n",
              "          }\n",
              "        }\n",
              "      }\n",
              "      const blob = new Blob(buffers, {type: 'application/binary'});\n",
              "      const a = document.createElement('a');\n",
              "      a.href = window.URL.createObjectURL(blob);\n",
              "      a.download = filename;\n",
              "      div.appendChild(a);\n",
              "      a.click();\n",
              "      div.remove();\n",
              "    }\n",
              "  "
            ]
          },
          "metadata": {}
        },
        {
          "output_type": "display_data",
          "data": {
            "text/plain": [
              "<IPython.core.display.Javascript object>"
            ],
            "application/javascript": [
              "download(\"download_a1e2dcfe-e890-4768-9f72-00c9a72c2057\", \"Laptops.csv\", 19)"
            ]
          },
          "metadata": {}
        }
      ]
    }
  ]
}